{
 "cells": [
  {
   "cell_type": "markdown",
   "metadata": {},
   "source": [
    "###### 需求分析"
   ]
  },
  {
   "cell_type": "markdown",
   "metadata": {},
   "source": [
    "一、明确抓取的内容\n",
    "   1、帖子\n",
    "   2、用户\n",
    "   3、用户信息"
   ]
  },
  {
   "cell_type": "markdown",
   "metadata": {},
   "source": [
    "二、制定抓取策略\n",
    "   1、抓取网站的数据构成\n",
    "   2、整个爬虫的抓取策略和人为的模拟方式很象"
   ]
  },
  {
   "cell_type": "markdown",
   "metadata": {},
   "source": [
    "三、判断是否是动态页面\n",
    "   1、静态页面\n",
    "   2、动态页面\n",
    "   判断方法：将element中返回数据和源网页内容对比，查看是否存在"
   ]
  },
  {
   "cell_type": "markdown",
   "metadata": {},
   "source": [
    "四、提取数据 \n",
    "   1、标题\n",
    "   2、内容\n",
    "   3、作者\n",
    "   "
   ]
  },
  {
   "cell_type": "markdown",
   "metadata": {},
   "source": [
    "###### 抓取分析"
   ]
  },
  {
   "cell_type": "markdown",
   "metadata": {},
   "source": [
    "一、"
   ]
  }
 ],
 "metadata": {
  "kernelspec": {
   "display_name": "Python 3",
   "language": "python",
   "name": "python3"
  },
  "language_info": {
   "codemirror_mode": {
    "name": "ipython",
    "version": 3
   },
   "file_extension": ".py",
   "mimetype": "text/x-python",
   "name": "python",
   "nbconvert_exporter": "python",
   "pygments_lexer": "ipython3",
   "version": "3.6.5"
  }
 },
 "nbformat": 4,
 "nbformat_minor": 2
}
